{
 "cells": [
  {
   "cell_type": "code",
   "execution_count": 3,
   "metadata": {},
   "outputs": [],
   "source": [
    "import glob\n",
    "import xml.etree.ElementTree as ET\n",
    "import sys\n",
    "from tqdm import tqdm\n",
    "import cv2\n",
    "import os"
   ]
  },
  {
   "cell_type": "code",
   "execution_count": 4,
   "metadata": {},
   "outputs": [],
   "source": [
    "def box_plot(path, D):\n",
    "    output_path = os.path.join(r'C:\\Users\\hp\\Downloads\\Output', os.path.split(path)[1]) \n",
    "    font = cv2.FONT_HERSHEY_SIMPLEX\n",
    "    img = cv2.imread(path)\n",
    "    for cor in D:\n",
    "        img = cv2.rectangle(img, (cor[1], cor[2]), (cor[3], cor[4]), (0,255,0), 2)\n",
    "        img = cv2.putText(img, cor[0], (cor[1], cor[2]-20), font, 0.8, (0, 255, 0), 2, cv2.LINE_AA)\n",
    "    cv2.imwrite(output_path, img)\n",
    "    cv2.imshow(\"IMAGE\", img)\n",
    "    cv2.waitKey(0)"
   ]
  },
  {
   "cell_type": "code",
   "execution_count": 5,
   "metadata": {},
   "outputs": [
    {
     "name": "stderr",
     "output_type": "stream",
     "text": [
      "100%|████████████████████████████████████████████████████████████████████████████████████| 5/5 [00:11<00:00,  2.73s/it]\n"
     ]
    }
   ],
   "source": [
    "files1 = [f for f in glob.glob(r'C:\\Users\\hp\\Downloads\\intern-assignment\\*.png')]\n",
    "files2 = [f for f in glob.glob(r'C:\\Users\\hp\\Downloads\\intern-assignment\\*.jpg')]\n",
    "\n",
    "files = files1 + files2\n",
    "\n",
    "for i in tqdm(files):\n",
    "    tree = ET.parse(i.split('.')[0] + '.xml')\n",
    "    root = tree.getroot()\n",
    "    data = []\n",
    "    for obj in root.findall('object'):\n",
    "        name = obj.find('name').text\n",
    "        for x in obj.findall('bndbox'):\n",
    "            xmin = int((x.find('xmin').text).split('.')[0])\n",
    "            ymin = int((x.find('ymin').text).split('.')[0])\n",
    "            xmax = int((x.find('xmax').text).split('.')[0])\n",
    "            ymax = int((x.find('ymax').text).split('.')[0])\n",
    "            data.append([name, xmin, ymin, xmax, ymax])\n",
    "    box_plot(i, data)"
   ]
  }
 ],
 "metadata": {
  "kernelspec": {
   "display_name": "Python 3",
   "language": "python",
   "name": "python3"
  },
  "language_info": {
   "codemirror_mode": {
    "name": "ipython",
    "version": 3
   },
   "file_extension": ".py",
   "mimetype": "text/x-python",
   "name": "python",
   "nbconvert_exporter": "python",
   "pygments_lexer": "ipython3",
   "version": "3.7.3"
  }
 },
 "nbformat": 4,
 "nbformat_minor": 2
}
